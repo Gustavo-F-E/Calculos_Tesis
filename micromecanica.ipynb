{
 "cells": [
  {
   "cell_type": "markdown",
   "metadata": {},
   "source": [
    "#Micromecanica para fibras Transversalmente Isotropicas\n",
    "\n",
    "Constantes ingenieriles de la fibra y de la matriz:\n",
    "Es conveniente definir las contantes ingenieriles tanto de la fibra como de la matriz:\n",
    "\n",
    "##Propiedades de la Fibra:\n",
    "\n",
    "###Modulo elástico de la fibra en direccion axial"
   ]
  },
  {
   "cell_type": "code",
   "execution_count": 1,
   "metadata": {},
   "outputs": [
    {
     "name": "stdout",
     "output_type": "stream",
     "text": [
      "E_f_A: 239.4\n"
     ]
    }
   ],
   "source": [
    "E_f_A=239.4\n",
    "print(f'E_f_A: {E_f_A}')"
   ]
  },
  {
   "cell_type": "markdown",
   "metadata": {},
   "source": [
    "###Modulo elástico de la fibra en direccion transversal"
   ]
  },
  {
   "cell_type": "code",
   "execution_count": 2,
   "metadata": {},
   "outputs": [
    {
     "name": "stdout",
     "output_type": "stream",
     "text": [
      "E_f_T: 13\n"
     ]
    }
   ],
   "source": [
    "E_f_T=13\n",
    "print(f'E_f_T: {E_f_T}')"
   ]
  },
  {
   "cell_type": "markdown",
   "metadata": {},
   "source": [
    "###Módulo de Poisson de la fibra en direccion axial"
   ]
  },
  {
   "cell_type": "code",
   "execution_count": 3,
   "metadata": {},
   "outputs": [
    {
     "name": "stdout",
     "output_type": "stream",
     "text": [
      "NU_f_A: 0.47\n"
     ]
    }
   ],
   "source": [
    "NU_f_A=0.47\n",
    "print(f'NU_f_A: {NU_f_A}')"
   ]
  },
  {
   "cell_type": "markdown",
   "metadata": {},
   "source": [
    "###Módulo de Poisson de la fibra en direccion trasnversal"
   ]
  },
  {
   "cell_type": "code",
   "execution_count": 4,
   "metadata": {},
   "outputs": [
    {
     "name": "stdout",
     "output_type": "stream",
     "text": [
      "NU_f_T: 0.17\n"
     ]
    }
   ],
   "source": [
    "NU_f_T=0.17\n",
    "print(f'NU_f_T: {NU_f_T}')"
   ]
  },
  {
   "cell_type": "markdown",
   "metadata": {},
   "source": [
    "###Modulo de corte de la fibra en direccion axial"
   ]
  },
  {
   "cell_type": "code",
   "execution_count": 5,
   "metadata": {},
   "outputs": [
    {
     "name": "stdout",
     "output_type": "stream",
     "text": [
      "G_f_A: 45.4\n"
     ]
    }
   ],
   "source": [
    "G_f_A=45.4\n",
    "print(f'G_f_A: {G_f_A}')"
   ]
  },
  {
   "cell_type": "markdown",
   "metadata": {},
   "source": [
    "###Modulo de corte de la fibra en direccion transversal"
   ]
  },
  {
   "cell_type": "code",
   "execution_count": 6,
   "metadata": {},
   "outputs": [
    {
     "name": "stdout",
     "output_type": "stream",
     "text": [
      "G_f_T: 5.555555555555556\n"
     ]
    }
   ],
   "source": [
    "G_f_T=E_f_T/(2*(1+NU_f_T))\n",
    "print(f'G_f_T: {G_f_T}')"
   ]
  },
  {
   "cell_type": "markdown",
   "metadata": {},
   "source": [
    "###Fracción en Volumen de la fibra"
   ]
  },
  {
   "cell_type": "code",
   "execution_count": 7,
   "metadata": {},
   "outputs": [
    {
     "name": "stdout",
     "output_type": "stream",
     "text": [
      "V_f: 0.6\n"
     ]
    }
   ],
   "source": [
    "V_f=0.6\n",
    "print(f'V_f: {V_f}')"
   ]
  },
  {
   "cell_type": "markdown",
   "metadata": {},
   "source": [
    "\n",
    "##Propiedades de la Matriz:\n",
    "\n",
    "###Modulo elástico de la matriz"
   ]
  },
  {
   "cell_type": "code",
   "execution_count": 8,
   "metadata": {},
   "outputs": [
    {
     "name": "stdout",
     "output_type": "stream",
     "text": [
      "E_m: 3.4\n"
     ]
    }
   ],
   "source": [
    "E_m=3.4\n",
    "print(f'E_m: {E_m}')"
   ]
  },
  {
   "cell_type": "markdown",
   "metadata": {},
   "source": [
    "###Módulo de Poisson de la matriz"
   ]
  },
  {
   "cell_type": "code",
   "execution_count": 9,
   "metadata": {},
   "outputs": [
    {
     "name": "stdout",
     "output_type": "stream",
     "text": [
      "NU_m: 0.31\n"
     ]
    }
   ],
   "source": [
    "NU_m=0.31\n",
    "print(f'NU_m: {NU_m}')"
   ]
  },
  {
   "cell_type": "markdown",
   "metadata": {},
   "source": [
    "###Modulo de corte de la matriz"
   ]
  },
  {
   "cell_type": "code",
   "execution_count": 10,
   "metadata": {},
   "outputs": [
    {
     "name": "stdout",
     "output_type": "stream",
     "text": [
      "G_m: 1.297709923664122\n"
     ]
    }
   ],
   "source": [
    "G_m=E_m/(2*(1+NU_m))\n",
    "print(f'G_m: {G_m}')"
   ]
  },
  {
   "cell_type": "markdown",
   "metadata": {},
   "source": [
    "###Fracción en Volumen de la matriz"
   ]
  },
  {
   "cell_type": "code",
   "execution_count": 11,
   "metadata": {},
   "outputs": [
    {
     "name": "stdout",
     "output_type": "stream",
     "text": [
      "V_m: 0.4\n"
     ]
    }
   ],
   "source": [
    "V_m=0.4\n",
    "print(f'V_m: {V_m}')"
   ]
  }
 ],
 "metadata": {
  "kernelspec": {
   "display_name": "Python 3.11.4 ('matplotlib')",
   "language": "python",
   "name": "python3"
  },
  "language_info": {
   "codemirror_mode": {
    "name": "ipython",
    "version": 3
   },
   "file_extension": ".py",
   "mimetype": "text/x-python",
   "name": "python",
   "nbconvert_exporter": "python",
   "pygments_lexer": "ipython3",
   "version": "3.11.4"
  },
  "orig_nbformat": 4,
  "vscode": {
   "interpreter": {
    "hash": "0acf39a141e3e88499afaf437f509f55f28d4058384171bcafdbd484f37da92d"
   }
  }
 },
 "nbformat": 4,
 "nbformat_minor": 2
}
