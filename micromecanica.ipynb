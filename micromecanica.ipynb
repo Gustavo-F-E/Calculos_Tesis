{
 "cells": [
  {
   "cell_type": "markdown",
   "metadata": {},
   "source": [
    "# Micromecanica para fibras Transversalmente Isotropicas\n",
    "\n",
    "Constantes ingenieriles de la fibra y de la matriz:\n",
    "Es conveniente definir las contantes ingenieriles tanto de la fibra como de la matriz:\n",
    "\n",
    "## Propiedades de la Fibra:\n",
    "\n",
    "### Modulo elástico de la fibra en direccion axial"
   ]
  },
  {
   "cell_type": "code",
   "execution_count": 2,
   "metadata": {},
   "outputs": [],
   "source": [
    "E_f_A=239.4\n",
    "#print(f'E_f_A: {E_f_A}')"
   ]
  },
  {
   "cell_type": "markdown",
   "metadata": {},
   "source": [
    "### Modulo elástico de la fibra en direccion transversal"
   ]
  },
  {
   "cell_type": "code",
   "execution_count": 3,
   "metadata": {},
   "outputs": [],
   "source": [
    "E_f_T=13\n",
    "#print(f'E_f_T: {E_f_T}')"
   ]
  },
  {
   "cell_type": "markdown",
   "metadata": {},
   "source": [
    "### Módulo de Poisson de la fibra en direccion axial"
   ]
  },
  {
   "cell_type": "code",
   "execution_count": 4,
   "metadata": {},
   "outputs": [],
   "source": [
    "NU_f_A=0.47\n",
    "#print(f'NU_f_A: {NU_f_A}')"
   ]
  },
  {
   "cell_type": "markdown",
   "metadata": {},
   "source": [
    "### Módulo de Poisson de la fibra en direccion trasnversal"
   ]
  },
  {
   "cell_type": "code",
   "execution_count": 5,
   "metadata": {},
   "outputs": [],
   "source": [
    "NU_f_T=0.17\n",
    "#print(f'NU_f_T: {NU_f_T}')"
   ]
  },
  {
   "cell_type": "markdown",
   "metadata": {},
   "source": [
    "### Modulo de corte de la fibra en direccion axial"
   ]
  },
  {
   "cell_type": "code",
   "execution_count": 6,
   "metadata": {},
   "outputs": [],
   "source": [
    "G_f_A=45.4\n",
    "#print(f'G_f_A: {G_f_A}')"
   ]
  },
  {
   "cell_type": "markdown",
   "metadata": {},
   "source": [
    "### Modulo de corte de la fibra en direccion transversal"
   ]
  },
  {
   "cell_type": "code",
   "execution_count": 7,
   "metadata": {},
   "outputs": [],
   "source": [
    "G_f_T=E_f_T/(2*(1+NU_f_T))\n",
    "#print(f'G_f_T: {G_f_T}')"
   ]
  },
  {
   "cell_type": "markdown",
   "metadata": {},
   "source": [
    "### Fracción en Volumen de la fibra"
   ]
  },
  {
   "cell_type": "code",
   "execution_count": 8,
   "metadata": {},
   "outputs": [],
   "source": [
    "V_f=0.6\n",
    "#print(f'V_f: {V_f}')"
   ]
  },
  {
   "cell_type": "markdown",
   "metadata": {},
   "source": [
    "## Tabla Resumen de las Propiedades de las fibras:"
   ]
  },
  {
   "cell_type": "code",
   "execution_count": 24,
   "metadata": {},
   "outputs": [
    {
     "data": {
      "text/markdown": [
       "\n",
       "| Propiedades de las Fibras                                | Valor    | Unidades    |\n",
       "| -------------------------------------------------------- | -------- | --- |\n",
       "| Modulo elástico de la fibra en direccion axial           | 239.4  | GPa |\n",
       "| Modulo elástico de la fibra en direccion transversal     | 13  | GPa |\n",
       "| Módulo de Poisson de la fibra en direccion axial         | 0.47 | -- |\n",
       "| Módulo de Poisson de la fibra en direccion transversal   | 0.17 | -- |\n",
       "| Modulo de corte de la fibra en direccion axial           | 45.4  | GPa |\n",
       "| Modulo de corte de la fibra en direccion transversal     | 5.555555555555556  | GPa |\n",
       "| Fracción en Volumen de la fibra                          | 0.6    | % |\n"
      ],
      "text/plain": [
       "<IPython.core.display.Markdown object>"
      ]
     },
     "metadata": {},
     "output_type": "display_data"
    }
   ],
   "source": [
    "from IPython.display import display, Markdown\n",
    "\n",
    "# Crear la cadena de texto en formato Markdown\n",
    "tabla_prop_fibras = f\"\"\"\n",
    "| Propiedades de las Fibras                                | Valor    | Unidades    |\n",
    "| -------------------------------------------------------- | -------- | ---         |\n",
    "| Modulo elástico de la fibra en direccion axial           | {E_f_A}  | GPa         |\n",
    "| Modulo elástico de la fibra en direccion transversal     | {E_f_T}  | GPa         |\n",
    "| Módulo de Poisson de la fibra en direccion axial         | {NU_f_A} | --          |\n",
    "| Módulo de Poisson de la fibra en direccion transversal   | {NU_f_T} | --          |\n",
    "| Modulo de corte de la fibra en direccion axial           | {G_f_A}  | GPa         |\n",
    "| Modulo de corte de la fibra en direccion transversal     | {G_f_T}  | GPa         |\n",
    "| Fracción en Volumen de la fibra                          | {V_f}    | %           |\n",
    "\"\"\"\n",
    "# Mostrar la tabla en formato Markdown\n",
    "display(Markdown(tabla_prop_fibras))"
   ]
  },
  {
   "cell_type": "markdown",
   "metadata": {},
   "source": [
    "## Propiedades de la Matriz:\n",
    "\n",
    "### Modulo elástico de la matriz"
   ]
  },
  {
   "cell_type": "code",
   "execution_count": 25,
   "metadata": {},
   "outputs": [],
   "source": [
    "E_m=3.4\n",
    "#print(f'E_m: {E_m}')"
   ]
  },
  {
   "cell_type": "markdown",
   "metadata": {},
   "source": [
    "### Módulo de Poisson de la matriz"
   ]
  },
  {
   "cell_type": "code",
   "execution_count": 26,
   "metadata": {},
   "outputs": [],
   "source": [
    "NU_m=0.31\n",
    "#print(f'NU_m: {NU_m}')"
   ]
  },
  {
   "cell_type": "markdown",
   "metadata": {},
   "source": [
    "### Modulo de corte de la matriz"
   ]
  },
  {
   "cell_type": "code",
   "execution_count": 27,
   "metadata": {},
   "outputs": [],
   "source": [
    "G_m=E_m/(2*(1+NU_m))\n",
    "#print(f'G_m: {G_m}')"
   ]
  },
  {
   "cell_type": "markdown",
   "metadata": {},
   "source": [
    "### Fracción en Volumen de la matriz"
   ]
  },
  {
   "cell_type": "code",
   "execution_count": 28,
   "metadata": {},
   "outputs": [],
   "source": [
    "V_m=0.4\n",
    "#print(f'V_m: {V_m}')"
   ]
  },
  {
   "cell_type": "markdown",
   "metadata": {},
   "source": [
    "## Tabla Resumen de las Propiedades de la matriz:"
   ]
  },
  {
   "cell_type": "code",
   "execution_count": 39,
   "metadata": {},
   "outputs": [
    {
     "data": {
      "text/markdown": [
       "\n",
       "| Propiedades de las Matriz                                | Valor    | Unidades |\n",
       "| -------------------------------------------------------- | -------- | --- |\n",
       "| Modulo elástico de la matriz                             | 3.4    | GPa |\n",
       "| Módulo de Poisson de la matriz                           | 0.31   | -- |\n",
       "| Modulo de corte de la matriz                             | 1.297709923664122    | GPa |\n",
       "| Fracción en Volumen de la matriz                         | 0.4    | % |\n"
      ],
      "text/plain": [
       "<IPython.core.display.Markdown object>"
      ]
     },
     "metadata": {},
     "output_type": "display_data"
    }
   ],
   "source": [
    "tabla_prop_matriz = f\"\"\"\n",
    "| Propiedades de las Matriz                                | Valor    | Unidades |\n",
    "| -------------------------------------------------------- | -------- | ---      |\n",
    "| Modulo elástico de la matriz                             | {E_m}    | GPa      |\n",
    "| Módulo de Poisson de la matriz                           | {NU_m}   | --       |\n",
    "| Modulo de corte de la matriz                             | {G_m}    | GPa      |\n",
    "| Fracción en Volumen de la matriz                         | {V_m}    | %        |\n",
    "\"\"\"\n",
    "# Mostrar la tabla en formato Markdown\n",
    "display(Markdown(tabla_prop_matriz))"
   ]
  },
  {
   "cell_type": "markdown",
   "metadata": {},
   "source": [
    "# Regla de las mezclas:\n",
    "\n",
    "Los módulos se calculan de la siguiente manera:\n",
    "\n",
    "#### Módulo Longitudinal $E_{1\\,RM}$:\n",
    "$E_{1\\,RM} = E_m * V_m + V_f * E_{f\\,Axial}$"
   ]
  },
  {
   "cell_type": "code",
   "execution_count": 40,
   "metadata": {},
   "outputs": [],
   "source": [
    "E1_RM = E_m * V_m + V_f * E_f_A"
   ]
  },
  {
   "cell_type": "markdown",
   "metadata": {},
   "source": [
    "#### Módulo Transversal $E_{2\\,RM}$:\n",
    "$E_{2\\,RM} = 1 / (V_m / E_m + V_f / E_{f\\,Axial} )$"
   ]
  },
  {
   "cell_type": "code",
   "execution_count": 41,
   "metadata": {},
   "outputs": [],
   "source": [
    "E2_RM = 1 / (V_m / E_m + V_f / E_f_A)"
   ]
  },
  {
   "cell_type": "markdown",
   "metadata": {},
   "source": [
    "#### Relacion de Poisson en el plano $μ_{12\\,RM}$:\n",
    "$μ_{12\\,RM} = μ_{f\\,Axial} * V_f + μ_m * V_m $"
   ]
  },
  {
   "cell_type": "code",
   "execution_count": 42,
   "metadata": {},
   "outputs": [],
   "source": [
    "NU12_RM = NU_f_A * V_f + NU_m * V_m"
   ]
  },
  {
   "cell_type": "markdown",
   "metadata": {},
   "source": [
    "#### Módulo de corte en el Plano $G_{12\\,RM}$:\n",
    "$G_{12\\,RM} = 1 / (V_m / G_m + V_f / G_{f\\,Axial})$"
   ]
  },
  {
   "cell_type": "code",
   "execution_count": 43,
   "metadata": {},
   "outputs": [],
   "source": [
    "G12_RM = 1/ (V_m/ G_m + V_f / G_f_A)"
   ]
  },
  {
   "cell_type": "markdown",
   "metadata": {},
   "source": [
    "#### Módulo de corte interlaminar $G_{13\\,RM}$:\n",
    "$G_{13\\,RM} = G_{12\\,RM}$"
   ]
  },
  {
   "cell_type": "code",
   "execution_count": 44,
   "metadata": {},
   "outputs": [],
   "source": [
    "G13_RM = G12_RM "
   ]
  },
  {
   "cell_type": "markdown",
   "metadata": {},
   "source": [
    "#### Relación de Poisson en el plano $μ_{13\\,RM}$:\n",
    "$μ_{13\\,RM} = μ_{12\\,RM}$"
   ]
  },
  {
   "cell_type": "code",
   "execution_count": 45,
   "metadata": {},
   "outputs": [],
   "source": [
    "NU13_RM = NU12_RM"
   ]
  },
  {
   "cell_type": "markdown",
   "metadata": {},
   "source": [
    "#### Módulo de corte interlaminar $G_{23\\,RM}$:\n",
    "Esta propiedad del material no se puede calcular con los supuestos iniciales de la regla de las mezclas. Para eso utilizamos otra teoría denominada técnica de parámetro semiempirico de partición de tensiones:\n",
    "\n",
    "$μ_4 = (3 - 4 * μ_m + G_m / G_{f\\,Axial}) / (4 * (1 - μ_m))$\n",
    "\n",
    "Y entonces calculamos el Módulo de corte interlaminar como:\n",
    "\n",
    "$G_{23\\,RM} = G_m * ((V_f + μ_4 * (1 - V_f)) / (μ_4 * (1 - V_f) + V_f * G_m / G_{f\\,Axial}))$"
   ]
  },
  {
   "cell_type": "code",
   "execution_count": 46,
   "metadata": {},
   "outputs": [],
   "source": [
    "NU_4=(3-4*NU_m+G_m/G_f_A)/(4*(1-NU_m))\n",
    "G23_RM=G_m*((V_f+NU_4*(1-V_f))/(NU_4*(1-V_f)+V_f*G_m/G_f_A))"
   ]
  },
  {
   "cell_type": "markdown",
   "metadata": {},
   "source": [
    "#### Relación de Poisson fuera del plano $μ_{23\\,RM}$:\n",
    "$μ_{23\\,RM} = E_{2\\,RM} / (2 * G_{23\\,RM}) - 1$"
   ]
  },
  {
   "cell_type": "code",
   "execution_count": 49,
   "metadata": {},
   "outputs": [],
   "source": [
    "NU23_RM = (E2_RM/(2*G23_RM))-1"
   ]
  },
  {
   "cell_type": "markdown",
   "metadata": {},
   "source": [
    "# Tabla de Resumen de las constantes ingenieriles calculadas mediante la Regla de las Mezclas:"
   ]
  },
  {
   "cell_type": "code",
   "execution_count": 51,
   "metadata": {},
   "outputs": [
    {
     "data": {
      "text/markdown": [
       "\n",
       "| Constantes ingenieriles del material compuesto               | Valor       | Unidades |\n",
       "| --------------------------------------------------------     | --------    | ---      |\n",
       "| Módulo Longitudinal                                          | 145.0     | GPa      |\n",
       "| Módulo Transversal                                           | 8.322699386503066     | GPa      |\n",
       "| Relacion de Poisson en el plano                              | 0.40599999999999997   | ---      |\n",
       "| Relacion de Poisson interlaminar                             | 0.40599999999999997   | ---      |\n",
       "| Relacion de Poisson interlaminar                             | 0.03142676040753534   | ---      |\n",
       "| Módulo de corte en el Plano                                  | 3.110892557719592    | GPa      |\n",
       "| Módulo de corte interlaminar                                 | 3.110892557719592    | GPa      |\n",
       "| Módulo de corte interlaminar                                 | 4.034556648120423    | GPa      |\n"
      ],
      "text/plain": [
       "<IPython.core.display.Markdown object>"
      ]
     },
     "metadata": {},
     "output_type": "display_data"
    }
   ],
   "source": [
    "tabla_const_ingenieriles = f\"\"\"\n",
    "| Constantes ingenieriles del material compuesto               | Valor       | Unidades |\n",
    "| --------------------------------------------------------     | --------    | ---      |\n",
    "| Módulo Longitudinal                                          | {E1_RM}     | GPa      |\n",
    "| Módulo Transversal                                           | {E2_RM}     | GPa      |\n",
    "| Relacion de Poisson en el plano                              | {NU12_RM}   | ---      |\n",
    "| Relacion de Poisson interlaminar                             | {NU13_RM}   | ---      |\n",
    "| Relacion de Poisson interlaminar                             | {NU23_RM}   | ---      |\n",
    "| Módulo de corte en el Plano                                  | {G12_RM}    | GPa      |\n",
    "| Módulo de corte interlaminar                                 | {G13_RM}    | GPa      |\n",
    "| Módulo de corte interlaminar                                 | {G23_RM}    | GPa      |\n",
    "\"\"\"\n",
    "# Mostrar la tabla en formato Markdown\n",
    "display(Markdown(tabla_const_ingenieriles))"
   ]
  }
 ],
 "metadata": {
  "kernelspec": {
   "display_name": "Python 3.10.8 64-bit",
   "language": "python",
   "name": "python3"
  },
  "language_info": {
   "codemirror_mode": {
    "name": "ipython",
    "version": 3
   },
   "file_extension": ".py",
   "mimetype": "text/x-python",
   "name": "python",
   "nbconvert_exporter": "python",
   "pygments_lexer": "ipython3",
   "version": "3.10.8"
  },
  "orig_nbformat": 4,
  "vscode": {
   "interpreter": {
    "hash": "7e454ac98e5d6f7ce144995d5872cb16b4a2febf903ce63ddae47d35667d42fd"
   }
  }
 },
 "nbformat": 4,
 "nbformat_minor": 2
}
